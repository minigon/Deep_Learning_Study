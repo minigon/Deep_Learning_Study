{
  "nbformat": 4,
  "nbformat_minor": 0,
  "metadata": {
    "colab": {
      "provenance": []
    },
    "kernelspec": {
      "name": "python3",
      "display_name": "Python 3"
    }
  },
  "cells": [
    {
      "cell_type": "markdown",
      "metadata": {
        "id": "JP1SwI1tJBFZ"
      },
      "source": [
        "## 목차\n",
        "### 0. [딥러닝 패키지 간략소개](#content-0)\n",
        "<br/>\n",
        "\n",
        "### 1. [회귀 (Regression)](#content-1)\n",
        "#### 1-1.[케라스로 선형회귀 나타내기](#content-1-1)\n",
        "- (참고) [scikit-learn을 사용한 선형회귀](#content-1-1-ref)\n",
        "\n",
        "#### 1-2 [선형회귀로 사인그래프를 나타낼 수 있을까?](#content-1-2)\n",
        "- (참고) [weight 초기화의 중요성](#content-1-2-ref)\n",
        "\n",
        "#### 1-3 [케라스에서 과적합 잡기](#content-1-3)\n",
        "\n",
        "<br/>\n",
        "\n",
        "### 2. [분류 (Classification)](#content-2)\n",
        "#### 2-1 [케라스로 로지스틱회귀 나타내기](#content-2-1)\n",
        "- (참고) [scikit-learn을 사용한 로지스틱회귀](#content-2-1-ref)\n",
        "\n",
        "#### 2-2 [로지스틱 회귀로 도넛모양을 나타낼 수 있을까?](#content-2-2)\n",
        "\n",
        "<br/>"
      ]
    },
    {
      "cell_type": "markdown",
      "metadata": {
        "id": "qMnSrW-7J6z-"
      },
      "source": [
        "### <a name='content-0'> 0. 딥러닝 패키지 간략소개</a>\n",
        "- TensorFlow (텐서플로우) : 구글이 개발하고 사용하는 딥러닝 패키지\n",
        "  - low level 언어 : 행렬의 모양, 행렬의 연산 등까지 직접 조작할 수 있을 정도로 세세한 작업이 가능\n",
        "  - 주 사용용도 : 논문 구현, 서비스 개발 등에 사용됨\n",
        "  \n",
        "- Keras (케라스) : 텐서플로우의 highwrapper 딥러닝 패키지\n",
        "  - 텐서플로우 언어 기반으로 딥러닝 개발을 더 쉽게 할 수 있도록 만든 딥러닝 패키지\n",
        "  - 주 사용용도 : 빠른 실험(연구용)\n",
        "\n",
        "- PyTorch (파이토치) : 기존 딥러닝 프레임웍 Torch를 파이썬스럽게 만든 패키지\n",
        "  - middle level 언어 : TF와 Keras 중간 정도의 편리함을 제공, 하지만 TF 처럼 세세한 작업도 가능\n",
        "  - python numpy와 호환이 굉징히 잘 된다.\n",
        "  - 주 사용용도 : 논문 구현,\n",
        "\n",
        "- fast.ai (페트스 에이아이) : 파이토치의 highwrapper 딥러닝 패키지\n",
        "  - keras 와 마찬가지로 단 몇 줄만으로 딥러닝 실행가능\n",
        "  - 주 사용용도 : 빠른 실험(연구용)\n",
        "\n",
        "### <a name='content-1'> 1. 회귀 (Regression) </a>\n",
        "#### <a name='content-1-1'> 1-1 케라스로 선형회귀 나타내기 </a>\n",
        "수업시간에 배운 구현 방법 : 정규방정식 (Normal equation)\n",
        "- $\\mathbf{b} = (X^TX)^{-1}X^T\\mathbf{y}$\n",
        "- $X=\n",
        "\\begin{bmatrix}\n",
        "1 & x_1^{(1)} & x_2^{(1)} & \\cdots & x_d^{(1)} \\\\\n",
        "1 & x_1^{(2)} & x_2^{(2)} & \\cdots & x_d^{(2)} \\\\\n",
        "1 & \\vdots & \\vdots & \\ddots & \\vdots \\\\\n",
        "1 & x_1^{(N)} & x_2^{(N)} & \\cdots & x_d^{(N)} \\\\\n",
        "\\end{bmatrix}$\n",
        ",\n",
        "$y=\n",
        "\\begin{bmatrix}\n",
        "y^{(1)}\\\\ y^{(2)}\\\\ \\vdots \\\\ y^{(N)}\n",
        "\\end{bmatrix}$\n",
        "<br/><br/>\n",
        "\n",
        "선형회귀를 사용하고 싶을 때마다 구현하는 것은 번거로움\n",
        "- 누군가 잘 만들어놓은 패키지를 사용하자.\n",
        "- Keras, Scikit-learn, ..."
      ]
    },
    {
      "cell_type": "code",
      "metadata": {
        "id": "3rwnX8eKI6o3",
        "colab": {
          "base_uri": "https://localhost:8080/",
          "height": 82
        },
        "outputId": "530bf982-aaf8-449e-b0f7-9d44f0e4f591"
      },
      "source": [
        "import warnings\n",
        "warnings.filterwarnings('ignore')\n",
        "\n",
        "import numpy as np\n",
        "import matplotlib.pyplot as plt\n",
        "import seaborn as sns\n",
        "\n",
        "from keras.models import Sequential\n",
        "from keras.layers import Dense"
      ],
      "execution_count": null,
      "outputs": [
        {
          "output_type": "stream",
          "text": [
            "Using TensorFlow backend.\n"
          ],
          "name": "stderr"
        },
        {
          "output_type": "display_data",
          "data": {
            "text/html": [
              "<p style=\"color: red;\">\n",
              "The default version of TensorFlow in Colab will soon switch to TensorFlow 2.x.<br>\n",
              "We recommend you <a href=\"https://www.tensorflow.org/guide/migrate\" target=\"_blank\">upgrade</a> now \n",
              "or ensure your notebook will continue to use TensorFlow 1.x via the <code>%tensorflow_version 1.x</code> magic:\n",
              "<a href=\"https://colab.research.google.com/notebooks/tensorflow_version.ipynb\" target=\"_blank\">more info</a>.</p>\n"
            ],
            "text/plain": [
              "<IPython.core.display.HTML object>"
            ]
          },
          "metadata": {
            "tags": []
          }
        }
      ]
    },
    {
      "cell_type": "code",
      "metadata": {
        "id": "k3-kV7zoM5Ld"
      },
      "source": [
        "# 선형회귀를 위한 인위 데이터 만들기\n",
        "x = np.linspace(-1, 1, 9)\n",
        "y = 4*x + 2 + 0.5 * np.random.randn(len(x))"
      ],
      "execution_count": null,
      "outputs": []
    },
    {
      "cell_type": "code",
      "metadata": {
        "id": "eZi6icyiNOD_",
        "colab": {
          "base_uri": "https://localhost:8080/",
          "height": 320
        },
        "outputId": "f2814b1a-34f8-49c2-af15-62f86ffad091"
      },
      "source": [
        "plt.figure(figsize = (8,5))\n",
        "# 데이터 그리기\n",
        "plt.plot(x, y, 'o', label = 'data')\n",
        "\n",
        "# x축 y축 그리기\n",
        "plt.vlines(x = 0,  ymin = y.min()-1, ymax = y.max()+1)\n",
        "plt.hlines(y = 0,  xmin = x.min()-1, xmax = x.max()+1)\n",
        "plt.grid()\n",
        "\n",
        "# 범례 보여주기\n",
        "plt.legend()\n",
        "\n",
        "# 보여주기\n",
        "plt.show()"
      ],
      "execution_count": null,
      "outputs": [
        {
          "output_type": "display_data",
          "data": {
            "image/png": "[encoded data removed]",
            "text/plain": [
              "<Figure size 576x360 with 1 Axes>"
            ]
          },
          "metadata": {
            "tags": []
          }
        }
      ]
    },
    {
      "cell_type": "markdown",
      "metadata": {
        "id": "dhrqpN1Bf8EN"
      },
      "source": [
        "---\n",
        "\n",
        "**케라스로 딥러닝 만드는 세 가지 단계**\n",
        "1. 모델 정의\n",
        "1. 모델 컴파일\n",
        "1. 모델 훈련\n",
        "\n",
        "**하나하나 알아보기**\n",
        "\n",
        "모델 정의\n",
        "- Sequential 인지? Functional 인지?\n",
        "  - Sequential : 모델을 쌓은 순서대로 인풋이 흘러감\n",
        "  - Functional : 입력값이 중간에 나뉘어지거나 합쳐지는 등의 과정이 있을 때 사용(고급 스킬)\n",
        "- 레이어 쌓기 : `model.add()`로 원하는 레이어를 쌓아올림\n",
        "\n",
        "모델 컴파일\n",
        "  - 손실 함수 ex) binary_crossentropy, mean-squared-error, mean-absolute-error\n",
        "  - 최적화 알고리즘, ex) Adam, SGD, RMSprop\n",
        "  - 평가지표, ex) accuracy, mean-absolute-error\n",
        "\n",
        "모델 학습\n",
        "  - 데이터\n",
        "  - 에폭 횟수\n",
        "  - 배치 사이즈\n",
        "  - 등등"
      ]
    },
    {
      "cell_type": "code",
      "metadata": {
        "id": "2G6sYylyODdK",
        "colab": {
          "base_uri": "https://localhost:8080/",
          "height": 451
        },
        "outputId": "016ecdd8-56c2-4860-c0aa-af6d9b8b5748"
      },
      "source": [
        "###############################################################\n",
        "# 케라스로 선형회귀 구현하기                                  #\n",
        "###############################################################\n",
        "# 모델 정의\n",
        "model = Sequential()\n",
        "model.add(Dense(1, input_shape = (1,)))\n",
        "\n",
        "# 모델 컴파일\n",
        "model.compile(loss = 'mean_squared_error', optimizer = 'sgd')\n",
        "\n",
        "# 모델 훈련\n",
        "model.fit(x, y, epochs = 500, verbose = 0)\n",
        "\n",
        "###############################################################\n",
        "#                                                             #\n",
        "###############################################################"
      ],
      "execution_count": null,
      "outputs": [
        {
          "output_type": "stream",
          "text": [
            "WARNING:tensorflow:From /usr/local/lib/python3.6/dist-packages/keras/backend/tensorflow_backend.py:541: The name tf.placeholder is deprecated. Please use tf.compat.v1.placeholder instead.\n",
            "\n",
            "WARNING:tensorflow:From /usr/local/lib/python3.6/dist-packages/keras/backend/tensorflow_backend.py:4432: The name tf.random_uniform is deprecated. Please use tf.random.uniform instead.\n",
            "\n",
            "WARNING:tensorflow:From /usr/local/lib/python3.6/dist-packages/keras/optimizers.py:793: The name tf.train.Optimizer is deprecated. Please use tf.compat.v1.train.Optimizer instead.\n",
            "\n",
            "WARNING:tensorflow:From /usr/local/lib/python3.6/dist-packages/keras/backend/tensorflow_backend.py:1033: The name tf.assign_add is deprecated. Please use tf.compat.v1.assign_add instead.\n",
            "\n",
            "WARNING:tensorflow:From /usr/local/lib/python3.6/dist-packages/keras/backend/tensorflow_backend.py:1020: The name tf.assign is deprecated. Please use tf.compat.v1.assign instead.\n",
            "\n",
            "WARNING:tensorflow:From /usr/local/lib/python3.6/dist-packages/keras/backend/tensorflow_backend.py:3005: The name tf.Session is deprecated. Please use tf.compat.v1.Session instead.\n",
            "\n",
            "WARNING:tensorflow:From /usr/local/lib/python3.6/dist-packages/keras/backend/tensorflow_backend.py:190: The name tf.get_default_session is deprecated. Please use tf.compat.v1.get_default_session instead.\n",
            "\n",
            "WARNING:tensorflow:From /usr/local/lib/python3.6/dist-packages/keras/backend/tensorflow_backend.py:197: The name tf.ConfigProto is deprecated. Please use tf.compat.v1.ConfigProto instead.\n",
            "\n",
            "WARNING:tensorflow:From /usr/local/lib/python3.6/dist-packages/keras/backend/tensorflow_backend.py:207: The name tf.global_variables is deprecated. Please use tf.compat.v1.global_variables instead.\n",
            "\n",
            "WARNING:tensorflow:From /usr/local/lib/python3.6/dist-packages/keras/backend/tensorflow_backend.py:216: The name tf.is_variable_initialized is deprecated. Please use tf.compat.v1.is_variable_initialized instead.\n",
            "\n",
            "WARNING:tensorflow:From /usr/local/lib/python3.6/dist-packages/keras/backend/tensorflow_backend.py:223: The name tf.variables_initializer is deprecated. Please use tf.compat.v1.variables_initializer instead.\n",
            "\n"
          ],
          "name": "stdout"
        },
        {
          "output_type": "execute_result",
          "data": {
            "text/plain": [
              "<keras.callbacks.History at 0x7f64ba0c6da0>"
            ]
          },
          "metadata": {
            "tags": []
          },
          "execution_count": 6
        }
      ]
    },
    {
      "cell_type": "markdown",
      "metadata": {
        "id": "hY9WWaDPhZXp"
      },
      "source": [
        "**훈련시킨 모델에 새로운 입력값을 넣었을 때 어떤 예측 값을 내는지 확인하기**<br/>\n",
        "새로운 입력값 : -1에서 1까지 50등분"
      ]
    },
    {
      "cell_type": "code",
      "metadata": {
        "id": "Z6kYrMFZNOp7"
      },
      "source": [
        "x_test = np.linspace(-1,1,50)\n",
        "y_pred = model.predict(x_test)"
      ],
      "execution_count": null,
      "outputs": []
    },
    {
      "cell_type": "code",
      "metadata": {
        "id": "B7d_rqKdNpk9",
        "colab": {
          "base_uri": "https://localhost:8080/",
          "height": 320
        },
        "outputId": "dddcb6ef-50b0-4fc2-ceca-399f167f7a30"
      },
      "source": [
        "plt.figure(figsize = (8,5))\n",
        "# 데이터 그리기\n",
        "plt.scatter(x, y, label = 'data')\n",
        "plt.plot(x_test, y_pred, 'ro', label = 'fitting-line')\n",
        "\n",
        "\n",
        "# x축 y축 그리기\n",
        "plt.vlines(x = 0,  ymin = y.min()-1, ymax = y.max()+1)\n",
        "plt.hlines(y = 0,  xmin = x.min()-1, xmax = x.max()+1)\n",
        "plt.grid()\n",
        "\n",
        "# 범례 보여주기\n",
        "plt.legend()\n",
        "\n",
        "# 보여주기\n",
        "plt.show()"
      ],
      "execution_count": null,
      "outputs": [
        {
          "output_type": "display_data",
          "data": {
            "image/png": "[encoded data removed]",
            "text/plain": [
              "<Figure size 576x360 with 1 Axes>"
            ]
          },
          "metadata": {
            "tags": []
          }
        }
      ]
    },
    {
      "cell_type": "markdown",
      "metadata": {
        "id": "5SP6NYbpREck"
      },
      "source": [
        "#### <a name='content-1-1-ref'> (참고) Scikit-learn을 사용한 선형회귀 </a>\n",
        "scikit-learn은 선형회귀, 로지스틱 회귀, SVM 등등 머신러닝 알고리즘을 담고 있는 패키지입니다."
      ]
    },
    {
      "cell_type": "code",
      "metadata": {
        "id": "PSmJQmkvOc6Q",
        "colab": {
          "base_uri": "https://localhost:8080/",
          "height": 244
        },
        "outputId": "31ac652c-682e-44f0-daa6-fdfdf3eab55d"
      },
      "source": [
        "###############################################################\n",
        "# Scikit learn 선형회귀 모듈 사용하기                         #\n",
        "###############################################################\n",
        "# 모듈 불러오기\n",
        "from sklearn.linear_model import LinearRegression\n",
        "\n",
        "# 모델 정의\n",
        "LR = LinearRegression()\n",
        "\n",
        "# 모델 훈련\n",
        "LR.fit(x, reshape(-1,1), y)\n",
        "\n",
        "# 모델 예측\n",
        "x_test = np.linspace(-1,1,50)\n",
        "\n",
        "###############################################################\n",
        "#                                                             #\n",
        "###############################################################"
      ],
      "execution_count": null,
      "outputs": [
        {
          "output_type": "error",
          "ename": "NameError",
          "evalue": "ignored",
          "traceback": [
            "\u001b[0;31m---------------------------------------------------------------------------\u001b[0m",
            "\u001b[0;31mNameError\u001b[0m                                 Traceback (most recent call last)",
            "\u001b[0;32m<ipython-input-9-edbc19347184>\u001b[0m in \u001b[0;36m<module>\u001b[0;34m()\u001b[0m\n\u001b[1;32m      5\u001b[0m \u001b[0;34m\u001b[0m\u001b[0m\n\u001b[1;32m      6\u001b[0m \u001b[0;31m# 모델 훈련\u001b[0m\u001b[0;34m\u001b[0m\u001b[0;34m\u001b[0m\u001b[0;34m\u001b[0m\u001b[0m\n\u001b[0;32m----> 7\u001b[0;31m \u001b[0mLR\u001b[0m\u001b[0;34m.\u001b[0m\u001b[0mfit\u001b[0m\u001b[0;34m(\u001b[0m\u001b[0mx\u001b[0m\u001b[0;34m,\u001b[0m \u001b[0mreshape\u001b[0m\u001b[0;34m(\u001b[0m\u001b[0;34m-\u001b[0m\u001b[0;36m1\u001b[0m\u001b[0;34m,\u001b[0m\u001b[0;36m1\u001b[0m\u001b[0;34m)\u001b[0m\u001b[0;34m,\u001b[0m \u001b[0my\u001b[0m\u001b[0;34m)\u001b[0m\u001b[0;34m\u001b[0m\u001b[0;34m\u001b[0m\u001b[0m\n\u001b[0m\u001b[1;32m      8\u001b[0m \u001b[0;34m\u001b[0m\u001b[0m\n\u001b[1;32m      9\u001b[0m \u001b[0;31m# 모델 예측\u001b[0m\u001b[0;34m\u001b[0m\u001b[0;34m\u001b[0m\u001b[0;34m\u001b[0m\u001b[0m\n",
            "\u001b[0;31mNameError\u001b[0m: name 'reshape' is not defined"
          ]
        }
      ]
    },
    {
      "cell_type": "code",
      "metadata": {
        "id": "FLC9PDXtPEXN",
        "colab": {
          "base_uri": "https://localhost:8080/",
          "height": 320
        },
        "outputId": "c0ae1a31-e268-498f-c85c-9cfd4b68ef77"
      },
      "source": [
        "plt.figure(figsize = (8,5))\n",
        "# 데이터 그리기\n",
        "plt.scatter(x, y, label = 'data')\n",
        "plt.plot(x_test, y_pred, 'ro', label = 'fitting-line')\n",
        "\n",
        "\n",
        "# x축 y축 그리기\n",
        "plt.vlines(x = 0,  ymin = y.min()-1, ymax = y.max()+1)\n",
        "plt.hlines(y = 0,  xmin = x.min()-1, xmax = x.max()+1)\n",
        "plt.grid()\n",
        "\n",
        "# 범례 보여주기\n",
        "plt.legend()\n",
        "\n",
        "# 보여주기\n",
        "plt.show()"
      ],
      "execution_count": null,
      "outputs": [
        {
          "output_type": "display_data",
          "data": {
            "image/png": "[encoded data removed]",
            "text/plain": [
              "<Figure size 576x360 with 1 Axes>"
            ]
          },
          "metadata": {
            "tags": []
          }
        }
      ]
    },
    {
      "cell_type": "markdown",
      "metadata": {
        "id": "6jbZ4ZRQSAQM"
      },
      "source": [
        "#### <a name='content-1-2'> 1-2. 선형회귀로 사인그래프를 나타낼 수 있을까? </a>"
      ]
    },
    {
      "cell_type": "code",
      "metadata": {
        "id": "l07E3yxnRkiZ"
      },
      "source": [
        "# 사인그래프 만들기\n",
        "x = np.linspace(-1, 1, 20)\n",
        "y = np.sin(np.pi * x)"
      ],
      "execution_count": null,
      "outputs": []
    },
    {
      "cell_type": "code",
      "metadata": {
        "id": "NfIvmCdyRloV",
        "colab": {
          "base_uri": "https://localhost:8080/",
          "height": 320
        },
        "outputId": "90f242be-93f3-4506-e33e-f3a614e3522d"
      },
      "source": [
        "plt.figure(figsize = (8,5))\n",
        "# 데이터 그리기\n",
        "plt.plot(x, y, 'o', label = 'data')\n",
        "\n",
        "# x축 y축 그리기\n",
        "plt.vlines(x = 0,  ymin = y.min()-1, ymax = y.max()+1)\n",
        "plt.hlines(y = 0,  xmin = x.min()-1, xmax = x.max()+1)\n",
        "plt.grid()\n",
        "\n",
        "# 범례 보여주기\n",
        "plt.legend()\n",
        "\n",
        "# 보여주기\n",
        "plt.show()"
      ],
      "execution_count": null,
      "outputs": [
        {
          "output_type": "display_data",
          "data": {
            "image/png": "[encoded data removed]",
            "text/plain": [
              "<Figure size 576x360 with 1 Axes>"
            ]
          },
          "metadata": {
            "tags": []
          }
        }
      ]
    },
    {
      "cell_type": "code",
      "metadata": {
        "id": "vR438E4-SbSC",
        "colab": {
          "base_uri": "https://localhost:8080/",
          "height": 35
        },
        "outputId": "4315a2bb-3945-49e7-ab96-dd2cf794f625"
      },
      "source": [
        "###############################################################\n",
        "# 케라스로 선형회귀 구현하기                                  #\n",
        "###############################################################\n",
        "# 모델 정의\n",
        "model = Sequential()\n",
        "model.add(Dense(1, input_shape = (1,)))\n",
        "\n",
        "# 모델 컴파일\n",
        "model.compile(loss = 'mean_squared_error', optimizer = 'sgd')\n",
        "\n",
        "# 모델 훈련\n",
        "model.fit(x, y, epochs = 500, verbose = 0)\n",
        "\n",
        "###############################################################\n",
        "#                                                             #\n",
        "###############################################################"
      ],
      "execution_count": null,
      "outputs": [
        {
          "output_type": "execute_result",
          "data": {
            "text/plain": [
              "<keras.callbacks.History at 0x7f64aeec8240>"
            ]
          },
          "metadata": {
            "tags": []
          },
          "execution_count": 13
        }
      ]
    },
    {
      "cell_type": "code",
      "metadata": {
        "id": "XB02JQJ3Sqa7",
        "colab": {
          "base_uri": "https://localhost:8080/",
          "height": 320
        },
        "outputId": "18b4cf17-3aab-4064-f906-093097951512"
      },
      "source": [
        "x_test = np.linspace(-1,1,50)\n",
        "y_pred = model.predict(x_test)\n",
        "\n",
        "plt.figure(figsize = (8,5))\n",
        "# 데이터 그리기\n",
        "plt.scatter(x, y, label = 'data')\n",
        "plt.plot(x_test, y_pred, 'ro', label = 'fitting-line')\n",
        "\n",
        "\n",
        "# x축 y축 그리기\n",
        "plt.vlines(x = 0,  ymin = y.min()-1, ymax = y.max()+1)\n",
        "plt.hlines(y = 0,  xmin = x.min()-1, xmax = x.max()+1)\n",
        "plt.grid()\n",
        "\n",
        "# 범례 보여주기\n",
        "plt.legend()\n",
        "\n",
        "# 보여주기\n",
        "plt.show()"
      ],
      "execution_count": null,
      "outputs": [
        {
          "output_type": "display_data",
          "data": {
            "image/png": "[encoded data removed]",
            "text/plain": [
              "<Figure size 576x360 with 1 Axes>"
            ]
          },
          "metadata": {
            "tags": []
          }
        }
      ]
    },
    {
      "cell_type": "code",
      "metadata": {
        "id": "5C--D73HSueY",
        "colab": {
          "base_uri": "https://localhost:8080/",
          "height": 35
        },
        "outputId": "2484b90e-2445-41b6-8abe-68156201fc4a"
      },
      "source": [
        "model = Sequential()\n",
        "###############################################################\n",
        "# 아래에 모델을 쌓아서 사인 그래프를 적합하시오.              #\n",
        "###############################################################\n",
        "\n",
        "model.add(Dense(256, input_shape = (1,), activation = 'relu'))\n",
        "model.add(Dense(256, activation = 'relu', kernel_initializer = 'he_normal'))\n",
        "model.add(Dense(256, activation = 'relu', kernel_initializer = 'he_normal'))\n",
        "model.add(Dense(256, activation = 'relu', kernel_initializer = 'he_normal'))\n",
        "model.add(Dense(256, activation = 'relu', kernel_initializer = 'he_normal'))\n",
        "model.add(Dense(256, activation = 'relu', kernel_initializer = 'he_normal'))\n",
        "model.add((Dense(1)))\n",
        "\n",
        "\n",
        "\n",
        "###############################################################\n",
        "#                                                             #\n",
        "###############################################################\n",
        "model.compile(loss = 'mean_squared_error', optimizer = 'sgd', metrics = ['mean_squared_error'])\n",
        "model.fit(x,y, epochs = 500, verbose = 0, batch_size = 9)"
      ],
      "execution_count": null,
      "outputs": [
        {
          "output_type": "execute_result",
          "data": {
            "text/plain": [
              "<keras.callbacks.History at 0x7f64ae7503c8>"
            ]
          },
          "metadata": {
            "tags": []
          },
          "execution_count": 27
        }
      ]
    },
    {
      "cell_type": "code",
      "metadata": {
        "id": "U2EJYcszS4c1",
        "colab": {
          "base_uri": "https://localhost:8080/",
          "height": 320
        },
        "outputId": "306684a4-1617-492c-8901-529413c65e95"
      },
      "source": [
        "x_test = np.linspace(-1,1,50)\n",
        "y_pred = model.predict(x_test)\n",
        "\n",
        "plt.figure(figsize = (8,5))\n",
        "# 데이터 그리기\n",
        "plt.scatter(x, y, label = 'data')\n",
        "plt.plot(x_test, y_pred, 'ro', label = 'fitting-line')\n",
        "\n",
        "\n",
        "# x축 y축 그리기\n",
        "plt.vlines(x = 0,  ymin = y.min()-1, ymax = y.max()+1)\n",
        "plt.hlines(y = 0,  xmin = x.min()-1, xmax = x.max()+1)\n",
        "plt.grid()\n",
        "\n",
        "# 범례 보여주기\n",
        "plt.legend()\n",
        "\n",
        "# 보여주기\n",
        "plt.show()"
      ],
      "execution_count": null,
      "outputs": [
        {
          "output_type": "display_data",
          "data": {
            "image/png": "[encoded data removed]",
            "text/plain": [
              "<Figure size 576x360 with 1 Axes>"
            ]
          },
          "metadata": {
            "tags": []
          }
        }
      ]
    },
    {
      "cell_type": "markdown",
      "metadata": {
        "id": "X8SNUbahWYpD"
      },
      "source": [
        "#### <a name='content-1-2-ref'> (참고) weight 초기화의 중요성 </a>"
      ]
    },
    {
      "cell_type": "code",
      "metadata": {
        "id": "yRZ6nt8IS6ZS",
        "colab": {
          "base_uri": "https://localhost:8080/",
          "height": 35
        },
        "outputId": "d97854cf-de46-4516-8dd2-ecb8d053d968"
      },
      "source": [
        "model = Sequential()\n",
        "model.add(Dense(128, activation = 'relu', input_shape = (1,)))\n",
        "model.add(Dense(128, activation = 'relu', kernel_initializer='he_normal'))\n",
        "model.add(Dense(128, activation = 'relu', kernel_initializer='he_normal'))\n",
        "model.add(Dense(128, activation = 'relu', kernel_initializer='he_normal'))\n",
        "model.add(Dense(1))\n",
        "\n",
        "model.compile(loss = 'mean_squared_error', optimizer = 'sgd', metrics = ['mean_squared_error'])\n",
        "\n",
        "model.fit(x,y, epochs = 500, verbose = 0, batch_size = 9)"
      ],
      "execution_count": null,
      "outputs": [
        {
          "output_type": "execute_result",
          "data": {
            "text/plain": [
              "<keras.callbacks.History at 0x7f64aef8fda0>"
            ]
          },
          "metadata": {
            "tags": []
          },
          "execution_count": 29
        }
      ]
    },
    {
      "cell_type": "code",
      "metadata": {
        "id": "j7J5hGi9USLR",
        "colab": {
          "base_uri": "https://localhost:8080/",
          "height": 320
        },
        "outputId": "f9d8439f-5531-42bc-902f-da4473c1ca24"
      },
      "source": [
        "x_test = np.linspace(-1,1,50)\n",
        "y_pred = model.predict(x_test)\n",
        "\n",
        "plt.figure(figsize = (8,5))\n",
        "# 데이터 그리기\n",
        "plt.scatter(x, y, label = 'data')\n",
        "plt.plot(x_test, y_pred, 'ro', label = 'fitting-line')\n",
        "\n",
        "\n",
        "# x축 y축 그리기\n",
        "plt.vlines(x = 0,  ymin = y.min()-1, ymax = y.max()+1)\n",
        "plt.hlines(y = 0,  xmin = x.min()-1, xmax = x.max()+1)\n",
        "plt.grid()\n",
        "\n",
        "# 범례 보여주기\n",
        "plt.legend()\n",
        "\n",
        "# 보여주기\n",
        "plt.show()"
      ],
      "execution_count": null,
      "outputs": [
        {
          "output_type": "display_data",
          "data": {
            "image/png": "[encoded data removed]",
            "text/plain": [
              "<Figure size 576x360 with 1 Axes>"
            ]
          },
          "metadata": {
            "tags": []
          }
        }
      ]
    },
    {
      "cell_type": "markdown",
      "metadata": {
        "id": "DQedTt_vdjJy"
      },
      "source": [
        "#### <a name='content-1-3'> 1-3 케라스에서 과적합 잡기 </a>"
      ]
    },
    {
      "cell_type": "code",
      "metadata": {
        "id": "GV9BwYXrUVeh"
      },
      "source": [
        "x = np.linspace(-1,1,12)\n",
        "y = x ** 2 + 0.10 * np.random.randn(len(x))"
      ],
      "execution_count": null,
      "outputs": []
    },
    {
      "cell_type": "code",
      "metadata": {
        "id": "bR4kCYgFaEsL",
        "colab": {
          "base_uri": "https://localhost:8080/",
          "height": 320
        },
        "outputId": "746d0a2d-fcf6-4f28-f062-c234d8487295"
      },
      "source": [
        "plt.figure(figsize = (8,5))\n",
        "# 데이터 그리기\n",
        "plt.plot(x, y, 'o', label = 'data')\n",
        "\n",
        "# x축 y축 그리기\n",
        "plt.vlines(x = 0,  ymin = y.min()-1, ymax = y.max()+1)\n",
        "plt.hlines(y = 0,  xmin = x.min()-1, xmax = x.max()+1)\n",
        "plt.grid()\n",
        "\n",
        "# 범례 보여주기\n",
        "plt.legend()\n",
        "\n",
        "# 보여주기\n",
        "plt.show()"
      ],
      "execution_count": null,
      "outputs": [
        {
          "output_type": "display_data",
          "data": {
            "image/png": "[encoded data removed]",
            "text/plain": [
              "<Figure size 576x360 with 1 Axes>"
            ]
          },
          "metadata": {
            "tags": []
          }
        }
      ]
    },
    {
      "cell_type": "code",
      "metadata": {
        "id": "3JDtBatOaqka",
        "colab": {
          "base_uri": "https://localhost:8080/",
          "height": 35
        },
        "outputId": "ab815602-3f39-462f-95b3-8e31927604a2"
      },
      "source": [
        "model = Sequential()\n",
        "model.add(Dense(256, activation = 'relu', input_shape = (1,)))\n",
        "model.add(Dense(256, activation = 'relu', kernel_initializer='he_normal'))\n",
        "model.add(Dense(256, activation = 'relu', kernel_initializer='he_normal'))\n",
        "model.add(Dense(256, activation = 'relu', kernel_initializer='he_normal'))\n",
        "model.add(Dense(256, activation = 'relu', kernel_initializer='he_normal'))\n",
        "model.add(Dense(256, activation = 'relu', kernel_initializer='he_normal'))\n",
        "model.add(Dense(256, activation = 'relu', kernel_initializer='he_normal'))\n",
        "\n",
        "model.add(Dense(1))\n",
        "\n",
        "model.compile(loss = 'mean_squared_error', optimizer = 'sgd', metrics = ['mean_squared_error'])\n",
        "\n",
        "model.fit(x,y, epochs = 500, verbose = 0, batch_size = 9)"
      ],
      "execution_count": null,
      "outputs": [
        {
          "output_type": "execute_result",
          "data": {
            "text/plain": [
              "<keras.callbacks.History at 0x7f64aead7c18>"
            ]
          },
          "metadata": {
            "tags": []
          },
          "execution_count": 33
        }
      ]
    },
    {
      "cell_type": "code",
      "metadata": {
        "id": "K9IGj_TdagtC",
        "colab": {
          "base_uri": "https://localhost:8080/",
          "height": 320
        },
        "outputId": "210dbad0-72dc-431f-8b84-6e10ad6a32e1"
      },
      "source": [
        "x_test = np.linspace(-1,1,50)\n",
        "y_pred = model.predict(x_test)\n",
        "\n",
        "plt.figure(figsize = (8,5))\n",
        "# 데이터 그리기\n",
        "plt.scatter(x, y, label = 'data')\n",
        "plt.plot(x_test, y_pred, 'r-', label = 'fitting-line')\n",
        "\n",
        "\n",
        "# x축 y축 그리기\n",
        "plt.vlines(x = 0,  ymin = y.min()-1, ymax = y.max()+1)\n",
        "plt.hlines(y = 0,  xmin = x.min()-1, xmax = x.max()+1)\n",
        "plt.grid()\n",
        "\n",
        "# 범례 보여주기\n",
        "plt.legend()\n",
        "\n",
        "# 보여주기\n",
        "plt.show()"
      ],
      "execution_count": null,
      "outputs": [
        {
          "output_type": "display_data",
          "data": {
            "image/png": "[encoded data removed]",
            "text/plain": [
              "<Figure size 576x360 with 1 Axes>"
            ]
          },
          "metadata": {
            "tags": []
          }
        }
      ]
    },
    {
      "cell_type": "code",
      "metadata": {
        "id": "88pr8JiLahrP",
        "colab": {
          "base_uri": "https://localhost:8080/",
          "height": 145
        },
        "outputId": "41185f15-70db-4716-cb86-cf8a0296c1d4"
      },
      "source": [
        "from keras.layers import Dropout\n",
        "\n",
        "model = Sequential()\n",
        "model.add(Dense(256, activation = 'relu', input_shape = (1,)))\n",
        "model.add(Dense(256, activation = 'relu', kernel_initializer='he_normal'))\n",
        "model.add(Dense(256, activation = 'relu', kernel_initializer='he_normal'))\n",
        "model.add(Dense(256, activation = 'relu', kernel_initializer='he_normal'))\n",
        "model.add(Dropout(0.3))\n",
        "model.add(Dense(256, activation = 'relu', kernel_initializer='he_normal'))\n",
        "model.add(Dropout(0.3))\n",
        "model.add(Dense(256, activation = 'relu', kernel_initializer='he_normal'))\n",
        "model.add(Dropout(0.3))\n",
        "model.add(Dense(256, activation = 'relu', kernel_initializer='he_normal'))\n",
        "\n",
        "model.add(Dense(1))\n",
        "\n",
        "model.compile(loss = 'mean_squared_error', optimizer = 'sgd', metrics = ['mean_squared_error'])\n",
        "\n",
        "model.fit(x,y, epochs = 500, verbose = 0, batch_size = 9)"
      ],
      "execution_count": null,
      "outputs": [
        {
          "output_type": "stream",
          "text": [
            "WARNING:tensorflow:From /usr/local/lib/python3.6/dist-packages/keras/backend/tensorflow_backend.py:148: The name tf.placeholder_with_default is deprecated. Please use tf.compat.v1.placeholder_with_default instead.\n",
            "\n",
            "WARNING:tensorflow:From /usr/local/lib/python3.6/dist-packages/keras/backend/tensorflow_backend.py:3733: calling dropout (from tensorflow.python.ops.nn_ops) with keep_prob is deprecated and will be removed in a future version.\n",
            "Instructions for updating:\n",
            "Please use `rate` instead of `keep_prob`. Rate should be set to `rate = 1 - keep_prob`.\n"
          ],
          "name": "stdout"
        },
        {
          "output_type": "execute_result",
          "data": {
            "text/plain": [
              "<keras.callbacks.History at 0x7f64ae5a9ba8>"
            ]
          },
          "metadata": {
            "tags": []
          },
          "execution_count": 35
        }
      ]
    },
    {
      "cell_type": "code",
      "metadata": {
        "id": "0f3RihOfa69J",
        "colab": {
          "base_uri": "https://localhost:8080/",
          "height": 320
        },
        "outputId": "97a5cecb-a74d-4bdb-ed6f-d7c4ec1b70a5"
      },
      "source": [
        "x_test = np.linspace(-1,1,50)\n",
        "y_pred = model.predict(x_test)\n",
        "\n",
        "plt.figure(figsize = (8,5))\n",
        "# 데이터 그리기\n",
        "plt.scatter(x, y, label = 'data')\n",
        "plt.plot(x_test, y_pred, 'r-', label = 'fitting-line')\n",
        "\n",
        "\n",
        "# x축 y축 그리기\n",
        "plt.vlines(x = 0,  ymin = y.min()-1, ymax = y.max()+1)\n",
        "plt.hlines(y = 0,  xmin = x.min()-1, xmax = x.max()+1)\n",
        "plt.grid()\n",
        "\n",
        "# 범례 보여주기\n",
        "plt.legend()\n",
        "\n",
        "# 보여주기\n",
        "plt.show()"
      ],
      "execution_count": null,
      "outputs": [
        {
          "output_type": "display_data",
          "data": {
            "image/png": "[encoded data removed]",
            "text/plain": [
              "<Figure size 576x360 with 1 Axes>"
            ]
          },
          "metadata": {
            "tags": []
          }
        }
      ]
    },
    {
      "cell_type": "markdown",
      "metadata": {
        "id": "gUacumiyh2O7"
      },
      "source": [
        "### <a name='content-2'> 2. 분류 (Classification) </a>\n",
        "#### <a name='content-2-1'> 2-1 케라스로 로지스틱회귀 나타내기 </a>"
      ]
    },
    {
      "cell_type": "code",
      "metadata": {
        "id": "F-sl7MTih18T"
      },
      "source": [
        "x = np.linspace(-1,1,50)\n",
        "y = np.linspace(-1,1,50)\n",
        "\n",
        "X = []\n",
        "for i in x:\n",
        "  for j in y:\n",
        "    if i+j <= 0:\n",
        "      X.append([i, j, 0])\n",
        "    else:\n",
        "      X.append([i, j, 1])\n",
        "X = np.array(X)"
      ],
      "execution_count": null,
      "outputs": []
    },
    {
      "cell_type": "code",
      "metadata": {
        "id": "ijQAwUdkbAZ4"
      },
      "source": [
        "plt.figure(figsize = (8,8))\n",
        "\n",
        "# 데이터 그리기\n",
        "sns.scatterplot(x = X[:,0], y = X[:,1], hue = X[:,2])\n",
        "\n",
        "# x축 y축 그리기\n",
        "plt.vlines(x = 0,  ymin = -3, ymax = 3)\n",
        "plt.hlines(y = 0,  xmin = -3, xmax = 3)\n",
        "plt.grid()\n",
        "\n",
        "plt.show()"
      ],
      "execution_count": null,
      "outputs": []
    },
    {
      "cell_type": "code",
      "metadata": {
        "id": "WDjjlludoOEd"
      },
      "source": [
        "###############################################################\n",
        "# 케라스로 로지스틱회귀 구현하기               ]              #\n",
        "###############################################################\n",
        "# 모델 정의\n",
        "\n",
        "# 모델 컴파일\n",
        "\n",
        "# 모델 훈련\n",
        "\n",
        "###############################################################\n",
        "#                                                             #\n",
        "###############################################################"
      ],
      "execution_count": null,
      "outputs": []
    },
    {
      "cell_type": "code",
      "metadata": {
        "id": "isuGV5VFprBt"
      },
      "source": [
        "#######################################\n",
        "# 테스트 데이터 만들기 & 예측하기\n",
        "#######################################\n",
        "x_test = []\n",
        "for i in x:\n",
        "  for j in y:\n",
        "    x_test.append([i,j])\n",
        "x_test = np.array(x_test)\n",
        "y_pred = model.predict_classes(x_test)\n",
        "\n",
        "#######################################\n",
        "# 그림그리기\n",
        "#######################################\n",
        "plt.figure(figsize = (15,5))\n",
        "\n",
        "plt.subplot(131)\n",
        "sns.scatterplot(x = x_test[:,0], y = x_test[:,1])\n",
        "plt.vlines(x = 0,  ymin = -3, ymax = 3)\n",
        "plt.hlines(y = 0,  xmin = -3, xmax = 3)\n",
        "plt.title(\"test data\")\n",
        "plt.grid()\n",
        "\n",
        "plt.subplot(132)\n",
        "sns.scatterplot(x = X[:,0], y = X[:,1], hue = X[:,2])\n",
        "plt.vlines(x = 0,  ymin = -3, ymax = 3)\n",
        "plt.hlines(y = 0,  xmin = -3, xmax = 3)\n",
        "plt.title(\"original data\")\n",
        "plt.grid()\n",
        "\n",
        "plt.subplot(133)\n",
        "sns.scatterplot(x = x_test[:,0], y = x_test[:,1], hue = y_pred.reshape(-1))\n",
        "plt.vlines(x = 0,  ymin = -3, ymax = 3)\n",
        "plt.hlines(y = 0,  xmin = -3, xmax = 3)\n",
        "plt.title(\"prediction\")\n",
        "plt.grid()\n",
        "\n",
        "plt.tight_layout()\n",
        "\n",
        "plt.show()"
      ],
      "execution_count": null,
      "outputs": []
    },
    {
      "cell_type": "markdown",
      "metadata": {
        "id": "6xQJtcR3pKxJ"
      },
      "source": [
        "#### <a name='content-2-1-ref'> (참고) Scikit-learn을 사용한 로지스틱회귀 </a>\n",
        "scikit-learn은 선형회귀, 로지스틱 회귀, SVM 등등 머신러닝 알고리즘을 담고 있는 패키지입니다."
      ]
    },
    {
      "cell_type": "code",
      "metadata": {
        "id": "poDawkUTpKLB"
      },
      "source": [
        "###############################################################\n",
        "# Scikit learn 선형회귀 모듈 사용하기                         #\n",
        "###############################################################\n",
        "# 모듈 불러오기\n",
        "\n",
        "# 모델 정의\n",
        "\n",
        "# 모델 훈련\n",
        "\n",
        "# 모델 예측\n",
        "x_test = np.linspace(-1,1,50)\n",
        "\n",
        "###############################################################\n",
        "#                                                             #\n",
        "###############################################################"
      ],
      "execution_count": null,
      "outputs": []
    },
    {
      "cell_type": "code",
      "metadata": {
        "id": "yZ6Ikk-spy8I"
      },
      "source": [
        "#######################################\n",
        "# 테스트 데이터 만들기 & 예측하기\n",
        "#######################################\n",
        "x_test = []\n",
        "for i in x:\n",
        "  for j in y:\n",
        "    x_test.append([i,j])\n",
        "x_test = np.array(x_test)\n",
        "y_pred = LR.predict(x_test)\n",
        "\n",
        "#######################################\n",
        "# 그림그리기\n",
        "#######################################\n",
        "plt.figure(figsize = (15,5))\n",
        "\n",
        "plt.subplot(131)\n",
        "sns.scatterplot(x = x_test[:,0], y = x_test[:,1])\n",
        "plt.vlines(x = 0,  ymin = -3, ymax = 3)\n",
        "plt.hlines(y = 0,  xmin = -3, xmax = 3)\n",
        "plt.title(\"test data\")\n",
        "plt.grid()\n",
        "\n",
        "plt.subplot(132)\n",
        "sns.scatterplot(x = X[:,0], y = X[:,1], hue = X[:,2])\n",
        "plt.vlines(x = 0,  ymin = -3, ymax = 3)\n",
        "plt.hlines(y = 0,  xmin = -3, xmax = 3)\n",
        "plt.title(\"original data\")\n",
        "plt.grid()\n",
        "\n",
        "plt.subplot(133)\n",
        "sns.scatterplot(x = x_test[:,0], y = x_test[:,1], hue = y_pred.reshape(-1))\n",
        "plt.vlines(x = 0,  ymin = -3, ymax = 3)\n",
        "plt.hlines(y = 0,  xmin = -3, xmax = 3)\n",
        "plt.title(\"prediction\")\n",
        "plt.grid()\n",
        "\n",
        "plt.tight_layout()\n",
        "\n",
        "plt.show()"
      ],
      "execution_count": null,
      "outputs": []
    },
    {
      "cell_type": "markdown",
      "metadata": {
        "id": "SJDb4CgziouV"
      },
      "source": [
        "#### <a name='content-2-2'> 2-2 로지스틱회귀로 도넛모양을 나타낼 수 있을까? </a>"
      ]
    },
    {
      "cell_type": "code",
      "metadata": {
        "id": "GaxNDj7OixkX"
      },
      "source": [
        "x = np.linspace(-2,2,100)\n",
        "y = np.linspace(-2,2,100)\n",
        "\n",
        "X = []\n",
        "for i in x:\n",
        "  for j in y:\n",
        "    if i**2 + j**2 <= 1:\n",
        "      X.append([i,j,0])\n",
        "    elif i**2 + j**2 <= 4:\n",
        "      X.append([i,j,1])\n",
        "\n",
        "X = np.array(X)"
      ],
      "execution_count": null,
      "outputs": []
    },
    {
      "cell_type": "code",
      "metadata": {
        "id": "5W6bdLCoqFr8"
      },
      "source": [
        "plt.figure(figsize = (8,8))\n",
        "\n",
        "# 데이터 그리기\n",
        "sns.scatterplot(x = X[:,0], y = X[:,1], hue = X[:,2])\n",
        "\n",
        "# x축 y축 그리기\n",
        "plt.vlines(x = 0,  ymin = -3, ymax = 3)\n",
        "plt.hlines(y = 0,  xmin = -3, xmax = 3)\n",
        "plt.grid()\n",
        "\n",
        "plt.show()"
      ],
      "execution_count": null,
      "outputs": []
    },
    {
      "cell_type": "code",
      "metadata": {
        "id": "14pPVZVulrsf"
      },
      "source": [
        "###############################################################\n",
        "# 케라스로 로지스틱회귀 구현하기               ]              #\n",
        "###############################################################\n",
        "# 모델 정의\n",
        "\n",
        "# 모델 컴파일\n",
        "\n",
        "# 모델 훈련\n",
        "\n",
        "###############################################################\n",
        "#                                                             #\n",
        "###############################################################"
      ],
      "execution_count": null,
      "outputs": []
    },
    {
      "cell_type": "code",
      "metadata": {
        "id": "URs9GzM5l3I_"
      },
      "source": [
        "#######################################\n",
        "# 테스트 데이터 만들기 & 예측하기\n",
        "#######################################\n",
        "x_test = []\n",
        "for i in x:\n",
        "  for j in y:\n",
        "    if i**2 + j**2 <= 4:\n",
        "      x_test.append([i,j])\n",
        "x_test = np.array(x_test)\n",
        "y_pred = model.predict_classes(x_test)\n",
        "\n",
        "#######################################\n",
        "# 그림그리기\n",
        "#######################################\n",
        "plt.figure(figsize = (15,5))\n",
        "\n",
        "plt.subplot(131)\n",
        "sns.scatterplot(x = x_test[:,0], y = x_test[:,1])\n",
        "plt.vlines(x = 0,  ymin = -3, ymax = 3)\n",
        "plt.hlines(y = 0,  xmin = -3, xmax = 3)\n",
        "plt.title(\"test data\")\n",
        "plt.grid()\n",
        "\n",
        "plt.subplot(132)\n",
        "sns.scatterplot(x = X[:,0], y = X[:,1], hue = X[:,2])\n",
        "plt.vlines(x = 0,  ymin = -3, ymax = 3)\n",
        "plt.hlines(y = 0,  xmin = -3, xmax = 3)\n",
        "plt.title(\"original data\")\n",
        "plt.grid()\n",
        "\n",
        "plt.subplot(133)\n",
        "sns.scatterplot(x = x_test[:,0], y = x_test[:,1], hue = y_pred.reshape(-1))\n",
        "plt.vlines(x = 0,  ymin = -3, ymax = 3)\n",
        "plt.hlines(y = 0,  xmin = -3, xmax = 3)\n",
        "plt.title(\"prediction\")\n",
        "plt.grid()\n",
        "\n",
        "plt.tight_layout()\n",
        "\n",
        "plt.show()"
      ],
      "execution_count": null,
      "outputs": []
    },
    {
      "cell_type": "code",
      "metadata": {
        "id": "Bjp-9i1hjiOY"
      },
      "source": [
        "model = Sequential()\n",
        "###############################################################\n",
        "# 아래에 모델을 쌓아서 도넛 모양을 적합하시오.                #\n",
        "###############################################################\n",
        "\n",
        "\n",
        "\n",
        "\n",
        "###############################################################\n",
        "#                                                             #\n",
        "###############################################################\n",
        "\n",
        "model.compile(loss = 'binary_crossentropy', optimizer = 'sgd', metrics = ['acc'])\n",
        "model.fit(X[:,[0,1]],X[:,2], epochs = 10, verbose = 1, batch_size = 8, validation_split = 0.2)"
      ],
      "execution_count": null,
      "outputs": []
    },
    {
      "cell_type": "code",
      "metadata": {
        "id": "SHUeACrNlPZa"
      },
      "source": [
        "#######################################\n",
        "# 테스트 데이터 만들기 & 예측하기\n",
        "#######################################\n",
        "x_test = []\n",
        "for i in x:\n",
        "  for j in y:\n",
        "    if i**2 + j**2 <= 4:\n",
        "      x_test.append([i,j])\n",
        "x_test = np.array(x_test)\n",
        "y_pred = model.predict_classes(x_test)\n",
        "\n",
        "#######################################\n",
        "# 그림그리기\n",
        "#######################################\n",
        "plt.figure(figsize = (15,5))\n",
        "\n",
        "plt.subplot(131)\n",
        "sns.scatterplot(x = x_test[:,0], y = x_test[:,1])\n",
        "plt.vlines(x = 0,  ymin = -3, ymax = 3)\n",
        "plt.hlines(y = 0,  xmin = -3, xmax = 3)\n",
        "plt.title(\"test data\")\n",
        "plt.grid()\n",
        "\n",
        "plt.subplot(132)\n",
        "sns.scatterplot(x = X[:,0], y = X[:,1], hue = X[:,2])\n",
        "plt.vlines(x = 0,  ymin = -3, ymax = 3)\n",
        "plt.hlines(y = 0,  xmin = -3, xmax = 3)\n",
        "plt.title(\"original data\")\n",
        "plt.grid()\n",
        "\n",
        "plt.subplot(133)\n",
        "sns.scatterplot(x = x_test[:,0], y = x_test[:,1], hue = y_pred.reshape(-1))\n",
        "plt.vlines(x = 0,  ymin = -3, ymax = 3)\n",
        "plt.hlines(y = 0,  xmin = -3, xmax = 3)\n",
        "plt.title(\"prediction\")\n",
        "plt.grid()\n",
        "\n",
        "plt.tight_layout()\n",
        "\n",
        "plt.show()"
      ],
      "execution_count": null,
      "outputs": []
    },
    {
      "cell_type": "code",
      "metadata": {
        "id": "FbgUJ5Wvlcng"
      },
      "source": [],
      "execution_count": null,
      "outputs": []
    }
  ]
}